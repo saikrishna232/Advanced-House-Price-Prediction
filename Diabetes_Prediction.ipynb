{
  "nbformat": 4,
  "nbformat_minor": 0,
  "metadata": {
    "colab": {
      "name": "Diabetes_Prediction.ipynb",
      "provenance": [],
      "authorship_tag": "ABX9TyPjwStWH+YaGDFLxTFaGOEb",
      "include_colab_link": true
    },
    "kernelspec": {
      "name": "python3",
      "display_name": "Python 3"
    }
  },
  "cells": [
    {
      "cell_type": "markdown",
      "metadata": {
        "id": "view-in-github",
        "colab_type": "text"
      },
      "source": [
        "<a href=\"https://colab.research.google.com/github/saikrishna232/Advanced-House-Price-Prediction/blob/main/Diabetes_Prediction.ipynb\" target=\"_parent\"><img src=\"https://colab.research.google.com/assets/colab-badge.svg\" alt=\"Open In Colab\"/></a>"
      ]
    },
    {
      "cell_type": "markdown",
      "metadata": {
        "id": "NYW38T8tPzws"
      },
      "source": [
        "# **Description:**\r\n",
        "\r\n",
        "Objective of the dataset is to predict whether a patient has diabetes based on certain diagnostic measurements like BMI,Insulin,age etc. We have a one target variable \"Outcome\" in the dataset."
      ]
    },
    {
      "cell_type": "markdown",
      "metadata": {
        "id": "aJqunYsoRWx-"
      },
      "source": [
        "**Libraries and Data Import**"
      ]
    },
    {
      "cell_type": "code",
      "metadata": {
        "id": "lOgzJBZhNENd"
      },
      "source": [
        "import pandas as pd\r\n",
        "import numpy as np\r\n",
        "import matplotlib.pyplot as plt\r\n",
        "import seaborn as sns\r\n",
        "%matplotlib inline\r\n",
        "pd.pandas.set_option('display.max_columns', None)\r\n",
        "import warnings\r\n",
        "warnings.filterwarnings('ignore')"
      ],
      "execution_count": 38,
      "outputs": []
    },
    {
      "cell_type": "code",
      "metadata": {
        "id": "6AQXbV8HOxxE"
      },
      "source": [
        "df=pd.read_csv('https://raw.githubusercontent.com/saikrishna232/Diabetes_Prediction/main/Diabetes.csv')"
      ],
      "execution_count": 2,
      "outputs": []
    },
    {
      "cell_type": "code",
      "metadata": {
        "colab": {
          "base_uri": "https://localhost:8080/",
          "height": 204
        },
        "id": "4cyqznkXPdPS",
        "outputId": "1ff5ddf3-6498-4608-e726-925bddfdd796"
      },
      "source": [
        "df.head()"
      ],
      "execution_count": 3,
      "outputs": [
        {
          "output_type": "execute_result",
          "data": {
            "text/html": [
              "<div>\n",
              "<style scoped>\n",
              "    .dataframe tbody tr th:only-of-type {\n",
              "        vertical-align: middle;\n",
              "    }\n",
              "\n",
              "    .dataframe tbody tr th {\n",
              "        vertical-align: top;\n",
              "    }\n",
              "\n",
              "    .dataframe thead th {\n",
              "        text-align: right;\n",
              "    }\n",
              "</style>\n",
              "<table border=\"1\" class=\"dataframe\">\n",
              "  <thead>\n",
              "    <tr style=\"text-align: right;\">\n",
              "      <th></th>\n",
              "      <th>Pregnancies</th>\n",
              "      <th>Glucose</th>\n",
              "      <th>BloodPressure</th>\n",
              "      <th>SkinThickness</th>\n",
              "      <th>Insulin</th>\n",
              "      <th>BMI</th>\n",
              "      <th>DiabetesPedigreeFunction</th>\n",
              "      <th>Age</th>\n",
              "      <th>Outcome</th>\n",
              "    </tr>\n",
              "  </thead>\n",
              "  <tbody>\n",
              "    <tr>\n",
              "      <th>0</th>\n",
              "      <td>6</td>\n",
              "      <td>148</td>\n",
              "      <td>72</td>\n",
              "      <td>35</td>\n",
              "      <td>0</td>\n",
              "      <td>33.6</td>\n",
              "      <td>0.627</td>\n",
              "      <td>50</td>\n",
              "      <td>1</td>\n",
              "    </tr>\n",
              "    <tr>\n",
              "      <th>1</th>\n",
              "      <td>1</td>\n",
              "      <td>85</td>\n",
              "      <td>66</td>\n",
              "      <td>29</td>\n",
              "      <td>0</td>\n",
              "      <td>26.6</td>\n",
              "      <td>0.351</td>\n",
              "      <td>31</td>\n",
              "      <td>0</td>\n",
              "    </tr>\n",
              "    <tr>\n",
              "      <th>2</th>\n",
              "      <td>8</td>\n",
              "      <td>183</td>\n",
              "      <td>64</td>\n",
              "      <td>0</td>\n",
              "      <td>0</td>\n",
              "      <td>23.3</td>\n",
              "      <td>0.672</td>\n",
              "      <td>32</td>\n",
              "      <td>1</td>\n",
              "    </tr>\n",
              "    <tr>\n",
              "      <th>3</th>\n",
              "      <td>1</td>\n",
              "      <td>89</td>\n",
              "      <td>66</td>\n",
              "      <td>23</td>\n",
              "      <td>94</td>\n",
              "      <td>28.1</td>\n",
              "      <td>0.167</td>\n",
              "      <td>21</td>\n",
              "      <td>0</td>\n",
              "    </tr>\n",
              "    <tr>\n",
              "      <th>4</th>\n",
              "      <td>0</td>\n",
              "      <td>137</td>\n",
              "      <td>40</td>\n",
              "      <td>35</td>\n",
              "      <td>168</td>\n",
              "      <td>43.1</td>\n",
              "      <td>2.288</td>\n",
              "      <td>33</td>\n",
              "      <td>1</td>\n",
              "    </tr>\n",
              "  </tbody>\n",
              "</table>\n",
              "</div>"
            ],
            "text/plain": [
              "   Pregnancies  Glucose  BloodPressure  SkinThickness  Insulin   BMI  \\\n",
              "0            6      148             72             35        0  33.6   \n",
              "1            1       85             66             29        0  26.6   \n",
              "2            8      183             64              0        0  23.3   \n",
              "3            1       89             66             23       94  28.1   \n",
              "4            0      137             40             35      168  43.1   \n",
              "\n",
              "   DiabetesPedigreeFunction  Age  Outcome  \n",
              "0                     0.627   50        1  \n",
              "1                     0.351   31        0  \n",
              "2                     0.672   32        1  \n",
              "3                     0.167   21        0  \n",
              "4                     2.288   33        1  "
            ]
          },
          "metadata": {
            "tags": []
          },
          "execution_count": 3
        }
      ]
    },
    {
      "cell_type": "code",
      "metadata": {
        "colab": {
          "base_uri": "https://localhost:8080/"
        },
        "id": "Kqmh_coiPg22",
        "outputId": "73011ade-bfab-4806-c5de-96ace5c90156"
      },
      "source": [
        "df.info()"
      ],
      "execution_count": 7,
      "outputs": [
        {
          "output_type": "stream",
          "text": [
            "<class 'pandas.core.frame.DataFrame'>\n",
            "RangeIndex: 768 entries, 0 to 767\n",
            "Data columns (total 9 columns):\n",
            " #   Column                    Non-Null Count  Dtype  \n",
            "---  ------                    --------------  -----  \n",
            " 0   Pregnancies               768 non-null    int64  \n",
            " 1   Glucose                   768 non-null    int64  \n",
            " 2   BloodPressure             768 non-null    int64  \n",
            " 3   SkinThickness             768 non-null    int64  \n",
            " 4   Insulin                   768 non-null    int64  \n",
            " 5   BMI                       768 non-null    float64\n",
            " 6   DiabetesPedigreeFunction  768 non-null    float64\n",
            " 7   Age                       768 non-null    int64  \n",
            " 8   Outcome                   768 non-null    int64  \n",
            "dtypes: float64(2), int64(7)\n",
            "memory usage: 54.1 KB\n"
          ],
          "name": "stdout"
        }
      ]
    },
    {
      "cell_type": "code",
      "metadata": {
        "colab": {
          "base_uri": "https://localhost:8080/"
        },
        "id": "l_lFJN3_QXpN",
        "outputId": "44eef5b3-8bde-4a98-961b-72734b423c71"
      },
      "source": [
        "df.isnull().sum()"
      ],
      "execution_count": 8,
      "outputs": [
        {
          "output_type": "execute_result",
          "data": {
            "text/plain": [
              "Pregnancies                 0\n",
              "Glucose                     0\n",
              "BloodPressure               0\n",
              "SkinThickness               0\n",
              "Insulin                     0\n",
              "BMI                         0\n",
              "DiabetesPedigreeFunction    0\n",
              "Age                         0\n",
              "Outcome                     0\n",
              "dtype: int64"
            ]
          },
          "metadata": {
            "tags": []
          },
          "execution_count": 8
        }
      ]
    },
    {
      "cell_type": "code",
      "metadata": {
        "colab": {
          "base_uri": "https://localhost:8080/"
        },
        "id": "Wf5Un01U8wsp",
        "outputId": "d1ace366-940d-42f4-cd9c-83698a50334b"
      },
      "source": [
        "for i in df.columns:\r\n",
        "  if 0 in df[i].unique():\r\n",
        "    print(i)"
      ],
      "execution_count": 76,
      "outputs": [
        {
          "output_type": "stream",
          "text": [
            "Pregnancies\n",
            "Glucose\n",
            "BloodPressure\n",
            "SkinThickness\n",
            "Insulin\n",
            "BMI\n",
            "Outcome\n"
          ],
          "name": "stdout"
        }
      ]
    },
    {
      "cell_type": "markdown",
      "metadata": {
        "id": "TtAZ6LViQodd"
      },
      "source": [
        "# **Observations:**\r\n",
        "\r\n",
        "1. We have 768 records and 9 features in the dataset.\r\n",
        "2. We don't have any categorical features in the dataset.\r\n",
        "3. We don't have missing values in any feature but we have zeroes in the    independent features which represents a missing value.\r\n",
        "4. We have two instances(0 and 1) in target class."
      ]
    },
    {
      "cell_type": "markdown",
      "metadata": {
        "id": "gx4MjntkRcAv"
      },
      "source": [
        "**Data Visualization**"
      ]
    },
    {
      "cell_type": "code",
      "metadata": {
        "colab": {
          "base_uri": "https://localhost:8080/",
          "height": 350
        },
        "id": "UaS0-M769LeW",
        "outputId": "f0277b8e-6c3d-4599-da55-045279f3bf9d"
      },
      "source": [
        "sns.countplot('Outcome',data=df)"
      ],
      "execution_count": 82,
      "outputs": [
        {
          "output_type": "stream",
          "text": [
            "/usr/local/lib/python3.6/dist-packages/seaborn/_decorators.py:43: FutureWarning: Pass the following variable as a keyword arg: x. From version 0.12, the only valid positional argument will be `data`, and passing other arguments without an explicit keyword will result in an error or misinterpretation.\n",
            "  FutureWarning\n"
          ],
          "name": "stderr"
        },
        {
          "output_type": "execute_result",
          "data": {
            "text/plain": [
              "<matplotlib.axes._subplots.AxesSubplot at 0x7f27461bf550>"
            ]
          },
          "metadata": {
            "tags": []
          },
          "execution_count": 82
        },
        {
          "output_type": "display_data",
          "data": {
            "image/png": "[encoded data removed]",
            "text/plain": [
              "<Figure size 432x288 with 1 Axes>"
            ]
          },
          "metadata": {
            "tags": [],
            "needs_background": "light"
          }
        }
      ]
    },
    {
      "cell_type": "markdown",
      "metadata": {
        "id": "uSZOGo__I1Tc"
      },
      "source": [
        "**Observation:** We could see that the dataset is slightly imbalanced. From the above plot, it is visible that number of diabetes positives are lower than number of negatives."
      ]
    },
    {
      "cell_type": "code",
      "metadata": {
        "colab": {
          "base_uri": "https://localhost:8080/",
          "height": 1000
        },
        "id": "MY-fN7hY66Of",
        "outputId": "c488426e-2913-4e95-cc41-25db9c01a2c8"
      },
      "source": [
        "X=df.iloc[:,:-1]\r\n",
        "for i in X.columns:\r\n",
        "  X[i].hist(bins=20)\r\n",
        "  plt.title(i)\r\n",
        "  plt.show()"
      ],
      "execution_count": 69,
      "outputs": [
        {
          "output_type": "display_data",
          "data": {
            "image/png": "[encoded data removed]",
            "text/plain": [
              "<Figure size 432x288 with 1 Axes>"
            ]
          },
          "metadata": {
            "tags": [],
            "needs_background": "light"
          }
        },
        {
          "output_type": "display_data",
          "data": {
            "image/png": "[encoded data removed]",
            "text/plain": [
              "<Figure size 432x288 with 1 Axes>"
            ]
          },
          "metadata": {
            "tags": [],
            "needs_background": "light"
          }
        },
        {
          "output_type": "display_data",
          "data": {
            "image/png": "[encoded data removed]",
            "text/plain": [
              "<Figure size 432x288 with 1 Axes>"
            ]
          },
          "metadata": {
            "tags": [],
            "needs_background": "light"
          }
        },
        {
          "output_type": "display_data",
          "data": {
            "image/png": "[encoded data removed]",
            "text/plain": [
              "<Figure size 432x288 with 1 Axes>"
            ]
          },
          "metadata": {
            "tags": [],
            "needs_background": "light"
          }
        },
        {
          "output_type": "display_data",
          "data": {
            "image/png": "[encoded data removed]",
            "text/plain": [
              "<Figure size 432x288 with 1 Axes>"
            ]
          },
          "metadata": {
            "tags": [],
            "needs_background": "light"
          }
        },
        {
          "output_type": "display_data",
          "data": {
            "image/png": "[encoded data removed]",
            "text/plain": [
              "<Figure size 432x288 with 1 Axes>"
            ]
          },
          "metadata": {
            "tags": [],
            "needs_background": "light"
          }
        },
        {
          "output_type": "display_data",
          "data": {
            "image/png": "[encoded data removed]",
            "text/plain": [
              "<Figure size 432x288 with 1 Axes>"
            ]
          },
          "metadata": {
            "tags": [],
            "needs_background": "light"
          }
        },
        {
          "output_type": "display_data",
          "data": {
            "image/png": "[encoded data removed]",
            "text/plain": [
              "<Figure size 432x288 with 1 Axes>"
            ]
          },
          "metadata": {
            "tags": [],
            "needs_background": "light"
          }
        }
      ]
    },
    {
      "cell_type": "code",
      "metadata": {
        "colab": {
          "base_uri": "https://localhost:8080/",
          "height": 407
        },
        "id": "A4lPs_cV8Wsf",
        "outputId": "b61d1c4e-2ee9-48d9-c2fd-1e0e0915466a"
      },
      "source": [
        "sns.heatmap(df.corr(),annot=True)"
      ],
      "execution_count": 73,
      "outputs": [
        {
          "output_type": "execute_result",
          "data": {
            "text/plain": [
              "<matplotlib.axes._subplots.AxesSubplot at 0x7f275d6de8d0>"
            ]
          },
          "metadata": {
            "tags": []
          },
          "execution_count": 73
        },
        {
          "output_type": "display_data",
          "data": {
            "image/png": "[encoded data removed]",
            "text/plain": [
              "<Figure size 432x288 with 2 Axes>"
            ]
          },
          "metadata": {
            "tags": [],
            "needs_background": "light"
          }
        }
      ]
    },
    {
      "cell_type": "markdown",
      "metadata": {
        "id": "BFtgFK_A97tW"
      },
      "source": [
        "# **Data Preprocessing**"
      ]
    },
    {
      "cell_type": "code",
      "metadata": {
        "colab": {
          "base_uri": "https://localhost:8080/"
        },
        "id": "VpxLscru-iQw",
        "outputId": "c1f305ab-fcba-4f41-afa8-ca455b1bc759"
      },
      "source": [
        "for i in df.columns:\r\n",
        "  if 0 in df[i].unique() and i not in ['Outcome','Pregnancies']:\r\n",
        "    print(i)"
      ],
      "execution_count": 4,
      "outputs": [
        {
          "output_type": "stream",
          "text": [
            "Glucose\n",
            "BloodPressure\n",
            "SkinThickness\n",
            "Insulin\n",
            "BMI\n"
          ],
          "name": "stdout"
        }
      ]
    },
    {
      "cell_type": "code",
      "metadata": {
        "id": "QJUNK8Md_1b4"
      },
      "source": [
        "#Replacing Zeros with NuLL values for selected features\r\n",
        "zero_cols=['Glucose','BloodPressure','SkinThickness','Insulin','BMI']\r\n",
        "df[zero_cols]=df[zero_cols].replace(0,np.NaN)"
      ],
      "execution_count": 7,
      "outputs": []
    },
    {
      "cell_type": "code",
      "metadata": {
        "colab": {
          "base_uri": "https://localhost:8080/"
        },
        "id": "lCHCXHGyAXBq",
        "outputId": "62d6022d-7121-4be8-e238-b98e170fba3a"
      },
      "source": [
        "df.isnull().sum()"
      ],
      "execution_count": 9,
      "outputs": [
        {
          "output_type": "execute_result",
          "data": {
            "text/plain": [
              "Pregnancies                   0\n",
              "Glucose                       5\n",
              "BloodPressure                35\n",
              "SkinThickness               227\n",
              "Insulin                     374\n",
              "BMI                          11\n",
              "DiabetesPedigreeFunction      0\n",
              "Age                           0\n",
              "Outcome                       0\n",
              "dtype: int64"
            ]
          },
          "metadata": {
            "tags": []
          },
          "execution_count": 9
        }
      ]
    },
    {
      "cell_type": "code",
      "metadata": {
        "id": "vU2YoMOiAjEg"
      },
      "source": [
        "#Replacing NaN values with mean\r\n",
        "for i in zero_cols:\r\n",
        "  df[i]=df[i].fillna(df[i].mean())"
      ],
      "execution_count": 10,
      "outputs": []
    },
    {
      "cell_type": "code",
      "metadata": {
        "colab": {
          "base_uri": "https://localhost:8080/"
        },
        "id": "MpBKoWnABV9y",
        "outputId": "3e28aaca-db86-49f7-9edb-6595161fe1e4"
      },
      "source": [
        "df.isnull().sum()"
      ],
      "execution_count": 11,
      "outputs": [
        {
          "output_type": "execute_result",
          "data": {
            "text/plain": [
              "Pregnancies                 0\n",
              "Glucose                     0\n",
              "BloodPressure               0\n",
              "SkinThickness               0\n",
              "Insulin                     0\n",
              "BMI                         0\n",
              "DiabetesPedigreeFunction    0\n",
              "Age                         0\n",
              "Outcome                     0\n",
              "dtype: int64"
            ]
          },
          "metadata": {
            "tags": []
          },
          "execution_count": 11
        }
      ]
    },
    {
      "cell_type": "markdown",
      "metadata": {
        "id": "9rQcjNSKBarx"
      },
      "source": [
        "# **Feature Scaling**"
      ]
    },
    {
      "cell_type": "code",
      "metadata": {
        "id": "OkuaWqx1BeCg"
      },
      "source": [
        "from sklearn.preprocessing import MinMaxScaler\r\n",
        "scaler=MinMaxScaler()\r\n",
        "df_scaled=scaler.fit_transform(df)"
      ],
      "execution_count": 16,
      "outputs": []
    },
    {
      "cell_type": "code",
      "metadata": {
        "colab": {
          "base_uri": "https://localhost:8080/",
          "height": 204
        },
        "id": "c6qT_9-QFQ2-",
        "outputId": "fa2b6eaf-01c8-4096-acc0-0225a8a59f1a"
      },
      "source": [
        "Final=pd.DataFrame(df_scaled,columns=df.columns)\r\n",
        "Final.head()"
      ],
      "execution_count": 21,
      "outputs": [
        {
          "output_type": "execute_result",
          "data": {
            "text/html": [
              "<div>\n",
              "<style scoped>\n",
              "    .dataframe tbody tr th:only-of-type {\n",
              "        vertical-align: middle;\n",
              "    }\n",
              "\n",
              "    .dataframe tbody tr th {\n",
              "        vertical-align: top;\n",
              "    }\n",
              "\n",
              "    .dataframe thead th {\n",
              "        text-align: right;\n",
              "    }\n",
              "</style>\n",
              "<table border=\"1\" class=\"dataframe\">\n",
              "  <thead>\n",
              "    <tr style=\"text-align: right;\">\n",
              "      <th></th>\n",
              "      <th>Pregnancies</th>\n",
              "      <th>Glucose</th>\n",
              "      <th>BloodPressure</th>\n",
              "      <th>SkinThickness</th>\n",
              "      <th>Insulin</th>\n",
              "      <th>BMI</th>\n",
              "      <th>DiabetesPedigreeFunction</th>\n",
              "      <th>Age</th>\n",
              "      <th>Outcome</th>\n",
              "    </tr>\n",
              "  </thead>\n",
              "  <tbody>\n",
              "    <tr>\n",
              "      <th>0</th>\n",
              "      <td>0.352941</td>\n",
              "      <td>0.670968</td>\n",
              "      <td>0.489796</td>\n",
              "      <td>0.304348</td>\n",
              "      <td>0.170130</td>\n",
              "      <td>0.314928</td>\n",
              "      <td>0.234415</td>\n",
              "      <td>0.483333</td>\n",
              "      <td>1.0</td>\n",
              "    </tr>\n",
              "    <tr>\n",
              "      <th>1</th>\n",
              "      <td>0.058824</td>\n",
              "      <td>0.264516</td>\n",
              "      <td>0.428571</td>\n",
              "      <td>0.239130</td>\n",
              "      <td>0.170130</td>\n",
              "      <td>0.171779</td>\n",
              "      <td>0.116567</td>\n",
              "      <td>0.166667</td>\n",
              "      <td>0.0</td>\n",
              "    </tr>\n",
              "    <tr>\n",
              "      <th>2</th>\n",
              "      <td>0.470588</td>\n",
              "      <td>0.896774</td>\n",
              "      <td>0.408163</td>\n",
              "      <td>0.240798</td>\n",
              "      <td>0.170130</td>\n",
              "      <td>0.104294</td>\n",
              "      <td>0.253629</td>\n",
              "      <td>0.183333</td>\n",
              "      <td>1.0</td>\n",
              "    </tr>\n",
              "    <tr>\n",
              "      <th>3</th>\n",
              "      <td>0.058824</td>\n",
              "      <td>0.290323</td>\n",
              "      <td>0.428571</td>\n",
              "      <td>0.173913</td>\n",
              "      <td>0.096154</td>\n",
              "      <td>0.202454</td>\n",
              "      <td>0.038002</td>\n",
              "      <td>0.000000</td>\n",
              "      <td>0.0</td>\n",
              "    </tr>\n",
              "    <tr>\n",
              "      <th>4</th>\n",
              "      <td>0.000000</td>\n",
              "      <td>0.600000</td>\n",
              "      <td>0.163265</td>\n",
              "      <td>0.304348</td>\n",
              "      <td>0.185096</td>\n",
              "      <td>0.509202</td>\n",
              "      <td>0.943638</td>\n",
              "      <td>0.200000</td>\n",
              "      <td>1.0</td>\n",
              "    </tr>\n",
              "  </tbody>\n",
              "</table>\n",
              "</div>"
            ],
            "text/plain": [
              "   Pregnancies   Glucose  BloodPressure  SkinThickness   Insulin       BMI  \\\n",
              "0     0.352941  0.670968       0.489796       0.304348  0.170130  0.314928   \n",
              "1     0.058824  0.264516       0.428571       0.239130  0.170130  0.171779   \n",
              "2     0.470588  0.896774       0.408163       0.240798  0.170130  0.104294   \n",
              "3     0.058824  0.290323       0.428571       0.173913  0.096154  0.202454   \n",
              "4     0.000000  0.600000       0.163265       0.304348  0.185096  0.509202   \n",
              "\n",
              "   DiabetesPedigreeFunction       Age  Outcome  \n",
              "0                  0.234415  0.483333      1.0  \n",
              "1                  0.116567  0.166667      0.0  \n",
              "2                  0.253629  0.183333      1.0  \n",
              "3                  0.038002  0.000000      0.0  \n",
              "4                  0.943638  0.200000      1.0  "
            ]
          },
          "metadata": {
            "tags": []
          },
          "execution_count": 21
        }
      ]
    },
    {
      "cell_type": "code",
      "metadata": {
        "colab": {
          "base_uri": "https://localhost:8080/"
        },
        "id": "CfgHkaP3Go4b",
        "outputId": "985911f6-ef84-4c22-cc3e-82cea32753d3"
      },
      "source": [
        "#Ignoring the features-SkinThickness,BloodPressure,DiabetesPedigreeFunction since they have weak correlation with Outcome.\r\n",
        "X=Final.iloc[:,[0,1,4,5,7]]\r\n",
        "y=Final.iloc[:,8:]\r\n",
        "print(X.shape)\r\n",
        "print(y.shape)"
      ],
      "execution_count": 29,
      "outputs": [
        {
          "output_type": "stream",
          "text": [
            "(768, 5)\n",
            "(768, 1)\n"
          ],
          "name": "stdout"
        }
      ]
    },
    {
      "cell_type": "code",
      "metadata": {
        "id": "hx73ttBbH1oC"
      },
      "source": [
        "#Since the Target variable is imbalanced, using stratify to maintain the same ratio.\r\n",
        "from sklearn.model_selection import train_test_split\r\n",
        "X_train,X_test,y_train,y_test=train_test_split(X,y,test_size=0.2,stratify=df['Outcome'],random_state=40)"
      ],
      "execution_count": 47,
      "outputs": []
    },
    {
      "cell_type": "code",
      "metadata": {
        "colab": {
          "base_uri": "https://localhost:8080/"
        },
        "id": "38jLarUQIwIf",
        "outputId": "fef69148-ac09-4e14-ce40-b193d7f893bd"
      },
      "source": [
        "print(X_train.shape,X_test.shape,y_train.shape,y_test.shape)"
      ],
      "execution_count": 44,
      "outputs": [
        {
          "output_type": "stream",
          "text": [
            "(614, 5) (154, 5) (614, 1) (154, 1)\n"
          ],
          "name": "stdout"
        }
      ]
    },
    {
      "cell_type": "markdown",
      "metadata": {
        "id": "75HRsUb5Jquz"
      },
      "source": [
        "# **Data Modeling**"
      ]
    },
    {
      "cell_type": "code",
      "metadata": {
        "colab": {
          "base_uri": "https://localhost:8080/"
        },
        "id": "JW1Ar4AOJoGU",
        "outputId": "0339c8cc-cfdf-4910-fcf6-0da9404b945c"
      },
      "source": [
        "#Logistic Regression Algorithm\r\n",
        "from sklearn.linear_model import LogisticRegression\r\n",
        "logmodel=LogisticRegression()\r\n",
        "logmodel.fit(X_train,y_train)"
      ],
      "execution_count": 48,
      "outputs": [
        {
          "output_type": "execute_result",
          "data": {
            "text/plain": [
              "LogisticRegression(C=1.0, class_weight=None, dual=False, fit_intercept=True,\n",
              "                   intercept_scaling=1, l1_ratio=None, max_iter=100,\n",
              "                   multi_class='auto', n_jobs=None, penalty='l2',\n",
              "                   random_state=None, solver='lbfgs', tol=0.0001, verbose=0,\n",
              "                   warm_start=False)"
            ]
          },
          "metadata": {
            "tags": []
          },
          "execution_count": 48
        }
      ]
    },
    {
      "cell_type": "code",
      "metadata": {
        "colab": {
          "base_uri": "https://localhost:8080/",
          "height": 407
        },
        "id": "pT6KiHszJ8LH",
        "outputId": "fe65af0d-b2aa-4cc8-b1aa-ad594d832678"
      },
      "source": [
        "#Finding the best K-value for KNN alogirthm\r\n",
        "from sklearn import metrics\r\n",
        "from sklearn.neighbors import KNeighborsClassifier\r\n",
        "acc=[]\r\n",
        "for i in range(1,31):\r\n",
        "  model=KNeighborsClassifier(i)\r\n",
        "  model.fit(X_train,y_train)\r\n",
        "  preds=model.predict(X_test)\r\n",
        "  acc.append(metrics.accuracy_score(preds,y_test))\r\n",
        "plt.figure(figsize=(8,6))\r\n",
        "plt.plot(list(range(1,31)),acc)\r\n",
        "plt.title('Accuracy vs K-value')\r\n",
        "plt.grid()\r\n",
        "plt.xticks(range(1,31))\r\n",
        "plt.show()\r\n",
        "print(max(acc))"
      ],
      "execution_count": 49,
      "outputs": [
        {
          "output_type": "display_data",
          "data": {
            "image/png": "[encoded data removed]",
            "text/plain": [
              "<Figure size 576x432 with 1 Axes>"
            ]
          },
          "metadata": {
            "tags": [],
            "needs_background": "light"
          }
        },
        {
          "output_type": "stream",
          "text": [
            "0.8051948051948052\n"
          ],
          "name": "stdout"
        }
      ]
    },
    {
      "cell_type": "code",
      "metadata": {
        "colab": {
          "base_uri": "https://localhost:8080/"
        },
        "id": "4rMEJmfbOiXJ",
        "outputId": "a718dacc-0ef0-47d5-e54a-de0cd65f3ac9"
      },
      "source": [
        "#KNN Algorithm\r\n",
        "KNNmodel=KNeighborsClassifier(13)\r\n",
        "KNNmodel.fit(X_train,y_train)"
      ],
      "execution_count": 50,
      "outputs": [
        {
          "output_type": "execute_result",
          "data": {
            "text/plain": [
              "KNeighborsClassifier(algorithm='auto', leaf_size=30, metric='minkowski',\n",
              "                     metric_params=None, n_jobs=None, n_neighbors=13, p=2,\n",
              "                     weights='uniform')"
            ]
          },
          "metadata": {
            "tags": []
          },
          "execution_count": 50
        }
      ]
    },
    {
      "cell_type": "code",
      "metadata": {
        "colab": {
          "base_uri": "https://localhost:8080/"
        },
        "id": "WAfSmiCxO-hJ",
        "outputId": "1e6883fe-4ad7-4b51-fdb1-d037eed29a2c"
      },
      "source": [
        "#Support Vector Classifier Algorithm\r\n",
        "from sklearn.svm import SVC\r\n",
        "svcmodel=SVC(random_state=40)\r\n",
        "svcmodel.fit(X_train,y_train)"
      ],
      "execution_count": 52,
      "outputs": [
        {
          "output_type": "execute_result",
          "data": {
            "text/plain": [
              "SVC(C=1.0, break_ties=False, cache_size=200, class_weight=None, coef0=0.0,\n",
              "    decision_function_shape='ovr', degree=3, gamma='scale', kernel='rbf',\n",
              "    max_iter=-1, probability=False, random_state=40, shrinking=True, tol=0.001,\n",
              "    verbose=False)"
            ]
          },
          "metadata": {
            "tags": []
          },
          "execution_count": 52
        }
      ]
    },
    {
      "cell_type": "code",
      "metadata": {
        "colab": {
          "base_uri": "https://localhost:8080/"
        },
        "id": "vQVsmfuaPbot",
        "outputId": "eb1be109-5a3b-4fb4-d954-8395b6a686ab"
      },
      "source": [
        "from sklearn.naive_bayes import GaussianNB\r\n",
        "nbmodel = GaussianNB()\r\n",
        "nbmodel.fit(X_train,y_train)"
      ],
      "execution_count": 55,
      "outputs": [
        {
          "output_type": "execute_result",
          "data": {
            "text/plain": [
              "GaussianNB(priors=None, var_smoothing=1e-09)"
            ]
          },
          "metadata": {
            "tags": []
          },
          "execution_count": 55
        }
      ]
    },
    {
      "cell_type": "code",
      "metadata": {
        "colab": {
          "base_uri": "https://localhost:8080/"
        },
        "id": "DRXwDnRAQBkg",
        "outputId": "77b4e0d1-49ec-40c2-b1a4-f36e40fa5fcc"
      },
      "source": [
        "from sklearn.tree import DecisionTreeClassifier\r\n",
        "treemodel=DecisionTreeClassifier(random_state=40)\r\n",
        "treemodel.fit(X_train,y_train)"
      ],
      "execution_count": 57,
      "outputs": [
        {
          "output_type": "execute_result",
          "data": {
            "text/plain": [
              "DecisionTreeClassifier(ccp_alpha=0.0, class_weight=None, criterion='gini',\n",
              "                       max_depth=None, max_features=None, max_leaf_nodes=None,\n",
              "                       min_impurity_decrease=0.0, min_impurity_split=None,\n",
              "                       min_samples_leaf=1, min_samples_split=2,\n",
              "                       min_weight_fraction_leaf=0.0, presort='deprecated',\n",
              "                       random_state=40, splitter='best')"
            ]
          },
          "metadata": {
            "tags": []
          },
          "execution_count": 57
        }
      ]
    },
    {
      "cell_type": "code",
      "metadata": {
        "colab": {
          "base_uri": "https://localhost:8080/"
        },
        "id": "DXikGXEJQSpt",
        "outputId": "bfb90ed3-7b1b-453d-daf4-092ffbb33682"
      },
      "source": [
        "from sklearn.ensemble import RandomForestClassifier\r\n",
        "randommodel=RandomForestClassifier()\r\n",
        "randommodel.fit(X_train,y_train)"
      ],
      "execution_count": 58,
      "outputs": [
        {
          "output_type": "execute_result",
          "data": {
            "text/plain": [
              "RandomForestClassifier(bootstrap=True, ccp_alpha=0.0, class_weight=None,\n",
              "                       criterion='gini', max_depth=None, max_features='auto',\n",
              "                       max_leaf_nodes=None, max_samples=None,\n",
              "                       min_impurity_decrease=0.0, min_impurity_split=None,\n",
              "                       min_samples_leaf=1, min_samples_split=2,\n",
              "                       min_weight_fraction_leaf=0.0, n_estimators=100,\n",
              "                       n_jobs=None, oob_score=False, random_state=None,\n",
              "                       verbose=0, warm_start=False)"
            ]
          },
          "metadata": {
            "tags": []
          },
          "execution_count": 58
        }
      ]
    },
    {
      "cell_type": "markdown",
      "metadata": {
        "id": "9lYH8_RNRFiq"
      },
      "source": [
        "# **Model Evaluation**"
      ]
    },
    {
      "cell_type": "code",
      "metadata": {
        "id": "Nky252uyREvR"
      },
      "source": [
        "#Calculating Predictions\r\n",
        "logmodel_pred=logmodel.predict(X_test)\r\n",
        "KNNmodel_pred=KNNmodel.predict(X_test)\r\n",
        "svcmodel_pred=svcmodel.predict(X_test)\r\n",
        "nbmodel_pred=nbmodel.predict(X_test)\r\n",
        "treemodel_pred=treemodel.predict(X_test)\r\n",
        "randommodel_pred=randommodel.predict(X_test)"
      ],
      "execution_count": 60,
      "outputs": []
    },
    {
      "cell_type": "code",
      "metadata": {
        "colab": {
          "base_uri": "https://localhost:8080/"
        },
        "id": "tVrRandCRs69",
        "outputId": "ea4b4dd9-e93c-41ca-b0ac-c891c556acdf"
      },
      "source": [
        "#Evaluating using metrics\r\n",
        "from sklearn.metrics import accuracy_score\r\n",
        "print('Logistic Regression accuracy - ',accuracy_score(logmodel_pred,y_test)*100)\r\n",
        "print('KNN Model Accuracy - ',accuracy_score(KNNmodel_pred,y_test)*100)\r\n",
        "print('SVC Model Accuracy - ',accuracy_score(svcmodel_pred,y_test)*100)\r\n",
        "print('Naive Bayes Model Accuracy - ',accuracy_score(nbmodel_pred,y_test)*100)\r\n",
        "print('Decison Tree Model Accuracy - ',accuracy_score(treemodel_pred,y_test)*100)\r\n",
        "print('RadomForestClassifier Accuracy - ',accuracy_score(randommodel_pred,y_test)*100)"
      ],
      "execution_count": 65,
      "outputs": [
        {
          "output_type": "stream",
          "text": [
            "Logistic Regression accuracy -  75.32467532467533\n",
            "KNN Model Accuracy -  80.51948051948052\n",
            "SVC Model Accuracy -  77.27272727272727\n",
            "Naive Bayes Model Accuracy -  77.27272727272727\n",
            "Decison Tree Model Accuracy -  65.5844155844156\n",
            "RadomForestClassifier Accuracy -  73.37662337662337\n"
          ],
          "name": "stdout"
        }
      ]
    },
    {
      "cell_type": "markdown",
      "metadata": {
        "id": "SHLSrSwbTBiw"
      },
      "source": [
        "**From the above accuracy score, we can see KNN model gave the highest accuracy-80.5%**"
      ]
    },
    {
      "cell_type": "code",
      "metadata": {
        "colab": {
          "base_uri": "https://localhost:8080/"
        },
        "id": "1xhW1KCuSv85",
        "outputId": "f7516f11-4ddd-4423-afc7-70d24349bbff"
      },
      "source": [
        "from sklearn.metrics import confusion_matrix\r\n",
        "confusion_matrix(KNNmodel_pred,y_test)"
      ],
      "execution_count": 66,
      "outputs": [
        {
          "output_type": "execute_result",
          "data": {
            "text/plain": [
              "array([[85, 15],\n",
              "       [15, 39]])"
            ]
          },
          "metadata": {
            "tags": []
          },
          "execution_count": 66
        }
      ]
    },
    {
      "cell_type": "code",
      "metadata": {
        "colab": {
          "base_uri": "https://localhost:8080/"
        },
        "id": "R10IvalgTixl",
        "outputId": "ffe16728-7c1e-481c-e5db-c4383ee558a3"
      },
      "source": [
        "from sklearn.metrics import classification_report\r\n",
        "print(classification_report(y_test,KNNmodel_pred))"
      ],
      "execution_count": 69,
      "outputs": [
        {
          "output_type": "stream",
          "text": [
            "              precision    recall  f1-score   support\n",
            "\n",
            "         0.0       0.85      0.85      0.85       100\n",
            "         1.0       0.72      0.72      0.72        54\n",
            "\n",
            "    accuracy                           0.81       154\n",
            "   macro avg       0.79      0.79      0.79       154\n",
            "weighted avg       0.81      0.81      0.81       154\n",
            "\n"
          ],
          "name": "stdout"
        }
      ]
    }
  ]
}