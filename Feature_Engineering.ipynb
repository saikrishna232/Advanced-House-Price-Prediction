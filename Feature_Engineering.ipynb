{
  "nbformat": 4,
  "nbformat_minor": 0,
  "metadata": {
    "colab": {
      "name": "Feature Engineering.ipynb",
      "provenance": [],
      "toc_visible": true,
      "authorship_tag": "ABX9TyPkgemKNH2dgH9LYVB8wGik",
      "include_colab_link": true
    },
    "kernelspec": {
      "name": "python3",
      "display_name": "Python 3"
    }
  },
  "cells": [
    {
      "cell_type": "markdown",
      "metadata": {
        "id": "view-in-github",
        "colab_type": "text"
      },
      "source": [
        "<a href=\"https://colab.research.google.com/github/saikrishna232/Advanced-House-Price-Prediction/blob/main/Feature_Engineering.ipynb\" target=\"_parent\"><img src=\"https://colab.research.google.com/assets/colab-badge.svg\" alt=\"Open In Colab\"/></a>"
      ]
    },
    {
      "cell_type": "markdown",
      "metadata": {
        "id": "B7rxy0hoz8Jl"
      },
      "source": [
        "# **Feature Engineering**\r\n",
        "\r\n",
        "Below steps will be dealt in Feature Engineering\r\n",
        "\r\n",
        "1. Missing values\r\n",
        "2. Temporal variables\r\n",
        "3. Categorical variables: remove rare labels\r\n",
        "4. Standarise the values of the variables to the same range"
      ]
    },
    {
      "cell_type": "code",
      "metadata": {
        "colab": {
          "base_uri": "https://localhost:8080/"
        },
        "id": "rPhAJ48s0O_3",
        "outputId": "70c67b68-4e86-4878-c807-80c3d4823d37"
      },
      "source": [
        "import pandas as pd\r\n",
        "import numpy as np\r\n",
        "import matplotlib.pyplot as plt\r\n",
        "import seaborn as sns\r\n",
        "%matplotlib.inline\r\n",
        "pd.pandas.set_option('display.max_columns', None)"
      ],
      "execution_count": 1,
      "outputs": [
        {
          "output_type": "stream",
          "text": [
            "UsageError: Line magic function `%matplotlib.inline` not found.\n"
          ],
          "name": "stderr"
        }
      ]
    },
    {
      "cell_type": "code",
      "metadata": {
        "id": "PfobVDfK0ZmY"
      },
      "source": [
        "df=pd.read_csv('https://raw.githubusercontent.com/saikrishna232/Advanced-House-Price-Prediction/main/Data.csv',index_col=0)"
      ],
      "execution_count": 2,
      "outputs": []
    },
    {
      "cell_type": "markdown",
      "metadata": {
        "id": "-3g71yYY07ui"
      },
      "source": [
        "# **Handling Missing Values**"
      ]
    },
    {
      "cell_type": "markdown",
      "metadata": {
        "id": "GcTa0dxC1T3B"
      },
      "source": [
        "**Missing Values for Categorical Featues**"
      ]
    },
    {
      "cell_type": "code",
      "metadata": {
        "colab": {
          "base_uri": "https://localhost:8080/"
        },
        "id": "_jEZ-cR41YQQ",
        "outputId": "9fcf8b86-86be-4185-8603-0e4ae6c69347"
      },
      "source": [
        "#Replacing the missing values with a new label\r\n",
        "Cat_Nan=[i for i in df.columns if df[i].dtypes=='O' and df[i].isnull().sum()>0]\r\n",
        "for i in Cat_Nan:\r\n",
        "  df[i]=np.where(df[i].isnull(),'Missing',df[i])\r\n",
        "df[Cat_Nan].isnull().sum()"
      ],
      "execution_count": 24,
      "outputs": [
        {
          "output_type": "execute_result",
          "data": {
            "text/plain": [
              "Series([], dtype: float64)"
            ]
          },
          "metadata": {
            "tags": []
          },
          "execution_count": 24
        }
      ]
    },
    {
      "cell_type": "markdown",
      "metadata": {
        "id": "M9SeWs-632rL"
      },
      "source": [
        "**Numerical Features**"
      ]
    },
    {
      "cell_type": "code",
      "metadata": {
        "colab": {
          "base_uri": "https://localhost:8080/"
        },
        "id": "4BIZCAeK3wWS",
        "outputId": "eb6d09ef-30c6-41d4-e79c-5bdf58309543"
      },
      "source": [
        "Num_Nan=[i for i in df.columns if df[i].dtypes!='O' and df[i].isnull().sum()>0]\r\n",
        "for i in Num_Nan:\r\n",
        "  print(i,np.round(df[i].isnull().mean()*100,3),'% missing values')"
      ],
      "execution_count": 22,
      "outputs": [
        {
          "output_type": "stream",
          "text": [
            "LotFrontage 17.74 % missing values\n",
            "MasVnrArea 0.548 % missing values\n",
            "GarageYrBlt 5.548 % missing values\n"
          ],
          "name": "stdout"
        }
      ]
    },
    {
      "cell_type": "code",
      "metadata": {
        "colab": {
          "base_uri": "https://localhost:8080/"
        },
        "id": "UT1Ubty64gqF",
        "outputId": "b64a25c8-16fb-4f46-b145-8585b3671cbd"
      },
      "source": [
        "#Replacing the missing values with Medain value since we have outliers.\r\n",
        "for i in Num_Nan:\r\n",
        "  median_val=df[i].median()\r\n",
        "  df[i].fillna(median_val,inplace=True)\r\n",
        "df[Num_Nan].isnull().sum()"
      ],
      "execution_count": 35,
      "outputs": [
        {
          "output_type": "execute_result",
          "data": {
            "text/plain": [
              "LotFrontage    0\n",
              "MasVnrArea     0\n",
              "GarageYrBlt    0\n",
              "dtype: int64"
            ]
          },
          "metadata": {
            "tags": []
          },
          "execution_count": 35
        }
      ]
    },
    {
      "cell_type": "markdown",
      "metadata": {
        "id": "PP8v8DZT6aD6"
      },
      "source": [
        "**Temporal Features**\r\n",
        "> Converting the years into age using YearSold\r\n",
        "\r\n",
        "\r\n"
      ]
    },
    {
      "cell_type": "code",
      "metadata": {
        "colab": {
          "base_uri": "https://localhost:8080/"
        },
        "id": "YwXzFB1M6Zn-",
        "outputId": "e8053cf8-4b88-4fce-a437-e21cf935e058"
      },
      "source": [
        "temporal_cols=[i for i in df.columns if 'Yr' in i or 'Year' in i]\r\n",
        "temporal_cols.remove('YrSold')\r\n",
        "temporal_cols"
      ],
      "execution_count": 38,
      "outputs": [
        {
          "output_type": "execute_result",
          "data": {
            "text/plain": [
              "['YearBuilt', 'YearRemodAdd', 'GarageYrBlt']"
            ]
          },
          "metadata": {
            "tags": []
          },
          "execution_count": 38
        }
      ]
    },
    {
      "cell_type": "code",
      "metadata": {
        "colab": {
          "base_uri": "https://localhost:8080/",
          "height": 450
        },
        "id": "kcJFsV3Z7WIV",
        "outputId": "0b0c6c8c-a548-4039-e7b5-38f1c8c3a1f8"
      },
      "source": [
        "for i in temporal_cols:\r\n",
        "  df[i]=df['YrSold']-df[i]\r\n",
        "df[temporal_cols]"
      ],
      "execution_count": 39,
      "outputs": [
        {
          "output_type": "execute_result",
          "data": {
            "text/html": [
              "<div>\n",
              "<style scoped>\n",
              "    .dataframe tbody tr th:only-of-type {\n",
              "        vertical-align: middle;\n",
              "    }\n",
              "\n",
              "    .dataframe tbody tr th {\n",
              "        vertical-align: top;\n",
              "    }\n",
              "\n",
              "    .dataframe thead th {\n",
              "        text-align: right;\n",
              "    }\n",
              "</style>\n",
              "<table border=\"1\" class=\"dataframe\">\n",
              "  <thead>\n",
              "    <tr style=\"text-align: right;\">\n",
              "      <th></th>\n",
              "      <th>YearBuilt</th>\n",
              "      <th>YearRemodAdd</th>\n",
              "      <th>GarageYrBlt</th>\n",
              "    </tr>\n",
              "    <tr>\n",
              "      <th>Id</th>\n",
              "      <th></th>\n",
              "      <th></th>\n",
              "      <th></th>\n",
              "    </tr>\n",
              "  </thead>\n",
              "  <tbody>\n",
              "    <tr>\n",
              "      <th>1</th>\n",
              "      <td>5</td>\n",
              "      <td>5</td>\n",
              "      <td>5.0</td>\n",
              "    </tr>\n",
              "    <tr>\n",
              "      <th>2</th>\n",
              "      <td>31</td>\n",
              "      <td>31</td>\n",
              "      <td>31.0</td>\n",
              "    </tr>\n",
              "    <tr>\n",
              "      <th>3</th>\n",
              "      <td>7</td>\n",
              "      <td>6</td>\n",
              "      <td>7.0</td>\n",
              "    </tr>\n",
              "    <tr>\n",
              "      <th>4</th>\n",
              "      <td>91</td>\n",
              "      <td>36</td>\n",
              "      <td>8.0</td>\n",
              "    </tr>\n",
              "    <tr>\n",
              "      <th>5</th>\n",
              "      <td>8</td>\n",
              "      <td>8</td>\n",
              "      <td>8.0</td>\n",
              "    </tr>\n",
              "    <tr>\n",
              "      <th>...</th>\n",
              "      <td>...</td>\n",
              "      <td>...</td>\n",
              "      <td>...</td>\n",
              "    </tr>\n",
              "    <tr>\n",
              "      <th>1456</th>\n",
              "      <td>8</td>\n",
              "      <td>7</td>\n",
              "      <td>8.0</td>\n",
              "    </tr>\n",
              "    <tr>\n",
              "      <th>1457</th>\n",
              "      <td>32</td>\n",
              "      <td>22</td>\n",
              "      <td>32.0</td>\n",
              "    </tr>\n",
              "    <tr>\n",
              "      <th>1458</th>\n",
              "      <td>69</td>\n",
              "      <td>4</td>\n",
              "      <td>69.0</td>\n",
              "    </tr>\n",
              "    <tr>\n",
              "      <th>1459</th>\n",
              "      <td>60</td>\n",
              "      <td>14</td>\n",
              "      <td>60.0</td>\n",
              "    </tr>\n",
              "    <tr>\n",
              "      <th>1460</th>\n",
              "      <td>43</td>\n",
              "      <td>43</td>\n",
              "      <td>43.0</td>\n",
              "    </tr>\n",
              "  </tbody>\n",
              "</table>\n",
              "<p>1460 rows × 3 columns</p>\n",
              "</div>"
            ],
            "text/plain": [
              "      YearBuilt  YearRemodAdd  GarageYrBlt\n",
              "Id                                        \n",
              "1             5             5          5.0\n",
              "2            31            31         31.0\n",
              "3             7             6          7.0\n",
              "4            91            36          8.0\n",
              "5             8             8          8.0\n",
              "...         ...           ...          ...\n",
              "1456          8             7          8.0\n",
              "1457         32            22         32.0\n",
              "1458         69             4         69.0\n",
              "1459         60            14         60.0\n",
              "1460         43            43         43.0\n",
              "\n",
              "[1460 rows x 3 columns]"
            ]
          },
          "metadata": {
            "tags": []
          },
          "execution_count": 39
        }
      ]
    },
    {
      "cell_type": "markdown",
      "metadata": {
        "id": "Y4SfvDZr7nXK"
      },
      "source": [
        "**Continuos Numerical Variables**\r\n",
        "Since some skewness was observed in the distribution of continuos variables,\r\n",
        "Applying the log normal distribution.\r\n"
      ]
    },
    {
      "cell_type": "code",
      "metadata": {
        "colab": {
          "base_uri": "https://localhost:8080/"
        },
        "id": "p6OJ1pqC8Gqy",
        "outputId": "cb99bddb-ec38-46b3-baca-a0889d4a4d5b"
      },
      "source": [
        "Cont_Cols=[i for i in df.columns if 0 not in df[i].unique() and df[i].dtypes!='O' and len(df[i].unique())>25]\r\n",
        "Cont_Cols"
      ],
      "execution_count": 42,
      "outputs": [
        {
          "output_type": "execute_result",
          "data": {
            "text/plain": [
              "['LotFrontage', 'LotArea', '1stFlrSF', 'GrLivArea', 'SalePrice']"
            ]
          },
          "metadata": {
            "tags": []
          },
          "execution_count": 42
        }
      ]
    },
    {
      "cell_type": "code",
      "metadata": {
        "id": "LXil1TpD8kxu"
      },
      "source": [
        "for i in Cont_Cols:\r\n",
        "  df[i]=np.log(df[i])"
      ],
      "execution_count": 43,
      "outputs": []
    },
    {
      "cell_type": "markdown",
      "metadata": {
        "id": "PKEi7ogI8wJ4"
      },
      "source": [
        "**Handling Rare Categorical Features**\r\n",
        "> Categorical variables that are present less than 1% of the total observations will be removed.\r\n",
        "\r\n"
      ]
    },
    {
      "cell_type": "code",
      "metadata": {
        "id": "cEm1F85M9Gsr"
      },
      "source": [
        "Cat_Cols=[i for i in df.columns if df[i].dtypes=='O']"
      ],
      "execution_count": 45,
      "outputs": []
    },
    {
      "cell_type": "code",
      "metadata": {
        "id": "mJK2DgJP-D1U"
      },
      "source": [
        "for i in Cat_Cols:\r\n",
        "  temp=df.groupby(i)['SalePrice'].count()/len(df)\r\n",
        "  temp_df=temp[temp>0.01].index\r\n",
        "  df[i]=np.where(df[i].isin(temp_df),df[i],'Rare')"
      ],
      "execution_count": 54,
      "outputs": []
    },
    {
      "cell_type": "code",
      "metadata": {
        "colab": {
          "base_uri": "https://localhost:8080/"
        },
        "id": "ws41HRen_sWZ",
        "outputId": "468e97d2-30e1-4021-e2a7-d64fd3a733f5"
      },
      "source": [
        ""
      ],
      "execution_count": 60,
      "outputs": [
        {
          "output_type": "stream",
          "text": [
            "<class 'pandas.core.series.Series'>\n",
            "<class 'pandas.core.series.Series'>\n",
            "<class 'pandas.core.series.Series'>\n",
            "<class 'pandas.core.series.Series'>\n",
            "<class 'pandas.core.series.Series'>\n",
            "<class 'pandas.core.series.Series'>\n",
            "<class 'pandas.core.series.Series'>\n",
            "<class 'pandas.core.series.Series'>\n",
            "<class 'pandas.core.series.Series'>\n",
            "<class 'pandas.core.series.Series'>\n",
            "<class 'pandas.core.series.Series'>\n",
            "<class 'pandas.core.series.Series'>\n",
            "<class 'pandas.core.series.Series'>\n",
            "<class 'pandas.core.series.Series'>\n",
            "<class 'pandas.core.series.Series'>\n",
            "<class 'pandas.core.series.Series'>\n",
            "<class 'pandas.core.series.Series'>\n",
            "<class 'pandas.core.series.Series'>\n",
            "<class 'pandas.core.series.Series'>\n",
            "<class 'pandas.core.series.Series'>\n",
            "<class 'pandas.core.series.Series'>\n",
            "<class 'pandas.core.series.Series'>\n",
            "<class 'pandas.core.series.Series'>\n",
            "<class 'pandas.core.series.Series'>\n",
            "<class 'pandas.core.series.Series'>\n",
            "<class 'pandas.core.series.Series'>\n",
            "<class 'pandas.core.series.Series'>\n",
            "<class 'pandas.core.series.Series'>\n",
            "<class 'pandas.core.series.Series'>\n",
            "<class 'pandas.core.series.Series'>\n",
            "<class 'pandas.core.series.Series'>\n",
            "<class 'pandas.core.series.Series'>\n",
            "<class 'pandas.core.series.Series'>\n",
            "<class 'pandas.core.series.Series'>\n",
            "<class 'pandas.core.series.Series'>\n",
            "<class 'pandas.core.series.Series'>\n",
            "<class 'pandas.core.series.Series'>\n",
            "<class 'pandas.core.series.Series'>\n",
            "<class 'pandas.core.series.Series'>\n",
            "<class 'pandas.core.series.Series'>\n",
            "<class 'pandas.core.series.Series'>\n",
            "<class 'pandas.core.series.Series'>\n",
            "<class 'pandas.core.series.Series'>\n"
          ],
          "name": "stdout"
        }
      ]
    },
    {
      "cell_type": "markdown",
      "metadata": {
        "id": "9pyQf3onAZ9Q"
      },
      "source": [
        "# **Feature Encoding**"
      ]
    },
    {
      "cell_type": "code",
      "metadata": {
        "id": "tJC5o_FgAfle"
      },
      "source": [
        "for feature in Cat_Cols:\r\n",
        "    labels_ordered=df.groupby([feature])['SalePrice'].mean().sort_values().index\r\n",
        "    labels_ordered={k:i for i,k in enumerate(labels_ordered,0)}\r\n",
        "    df[feature]=df[feature].map(labels_ordered)"
      ],
      "execution_count": 63,
      "outputs": []
    },
    {
      "cell_type": "markdown",
      "metadata": {
        "id": "SXfJevuEA2_0"
      },
      "source": [
        "# **Feature Scaling**"
      ]
    },
    {
      "cell_type": "code",
      "metadata": {
        "colab": {
          "base_uri": "https://localhost:8080/"
        },
        "id": "K2QIjrnMA6EL",
        "outputId": "f4f93f35-942a-4ff9-f46e-fbb5d2c8c7a6"
      },
      "source": [
        "from sklearn.preprocessing import StandardScaler\r\n",
        "scaler=StandardScaler()\r\n",
        "scaled_cols=df.drop(['SalePrice'],axis=1)\r\n",
        "scaler.fit(scaled_cols)"
      ],
      "execution_count": 74,
      "outputs": [
        {
          "output_type": "execute_result",
          "data": {
            "text/plain": [
              "StandardScaler(copy=True, with_mean=True, with_std=True)"
            ]
          },
          "metadata": {
            "tags": []
          },
          "execution_count": 74
        }
      ]
    },
    {
      "cell_type": "code",
      "metadata": {
        "colab": {
          "base_uri": "https://localhost:8080/"
        },
        "id": "hlmBiXiTBUBz",
        "outputId": "b4f3303c-7e12-4fce-f24d-1994f4a1c9ae"
      },
      "source": [
        "scaler.transform(scaled_cols)"
      ],
      "execution_count": 75,
      "outputs": [
        {
          "output_type": "execute_result",
          "data": {
            "text/plain": [
              "array([[ 0.07337496,  0.35904396, -0.07586857, ...,  0.13877749,\n",
              "        -0.0116685 ,  0.18301409],\n",
              "       [-0.87256276,  0.35904396,  0.57242366, ..., -0.61443862,\n",
              "        -0.0116685 ,  0.18301409],\n",
              "       [ 0.07337496,  0.35904396,  0.06500658, ...,  0.13877749,\n",
              "        -0.0116685 ,  0.18301409],\n",
              "       ...,\n",
              "       [ 0.30985939,  0.35904396, -0.02820043, ...,  1.64520971,\n",
              "        -0.0116685 ,  0.18301409],\n",
              "       [-0.87256276,  0.35904396,  0.06500658, ...,  1.64520971,\n",
              "        -0.0116685 ,  0.18301409],\n",
              "       [-0.87256276,  0.35904396,  0.3709213 , ...,  0.13877749,\n",
              "        -0.0116685 ,  0.18301409]])"
            ]
          },
          "metadata": {
            "tags": []
          },
          "execution_count": 75
        }
      ]
    },
    {
      "cell_type": "code",
      "metadata": {
        "id": "KHN57YRKBa4H"
      },
      "source": [
        "Final_data=pd.concat([pd.DataFrame(scaler.transform(scaled_cols),columns=scaled_cols.columns),df['SalePrice'].reset_index(drop=True)],axis=1)"
      ],
      "execution_count": 79,
      "outputs": []
    },
    {
      "cell_type": "code",
      "metadata": {
        "colab": {
          "base_uri": "https://localhost:8080/",
          "height": 224
        },
        "id": "DFVHcI2aCAGr",
        "outputId": "ebffedea-6e9a-4cc1-86bd-a5c308179d73"
      },
      "source": [
        "Final_data.head()"
      ],
      "execution_count": 80,
      "outputs": [
        {
          "output_type": "execute_result",
          "data": {
            "text/html": [
              "<div>\n",
              "<style scoped>\n",
              "    .dataframe tbody tr th:only-of-type {\n",
              "        vertical-align: middle;\n",
              "    }\n",
              "\n",
              "    .dataframe tbody tr th {\n",
              "        vertical-align: top;\n",
              "    }\n",
              "\n",
              "    .dataframe thead th {\n",
              "        text-align: right;\n",
              "    }\n",
              "</style>\n",
              "<table border=\"1\" class=\"dataframe\">\n",
              "  <thead>\n",
              "    <tr style=\"text-align: right;\">\n",
              "      <th></th>\n",
              "      <th>MSSubClass</th>\n",
              "      <th>MSZoning</th>\n",
              "      <th>LotFrontage</th>\n",
              "      <th>LotArea</th>\n",
              "      <th>Street</th>\n",
              "      <th>Alley</th>\n",
              "      <th>LotShape</th>\n",
              "      <th>LandContour</th>\n",
              "      <th>Utilities</th>\n",
              "      <th>LotConfig</th>\n",
              "      <th>LandSlope</th>\n",
              "      <th>Neighborhood</th>\n",
              "      <th>Condition1</th>\n",
              "      <th>Condition2</th>\n",
              "      <th>BldgType</th>\n",
              "      <th>HouseStyle</th>\n",
              "      <th>OverallQual</th>\n",
              "      <th>OverallCond</th>\n",
              "      <th>YearBuilt</th>\n",
              "      <th>YearRemodAdd</th>\n",
              "      <th>RoofStyle</th>\n",
              "      <th>RoofMatl</th>\n",
              "      <th>Exterior1st</th>\n",
              "      <th>Exterior2nd</th>\n",
              "      <th>MasVnrType</th>\n",
              "      <th>MasVnrArea</th>\n",
              "      <th>ExterQual</th>\n",
              "      <th>ExterCond</th>\n",
              "      <th>Foundation</th>\n",
              "      <th>BsmtQual</th>\n",
              "      <th>BsmtCond</th>\n",
              "      <th>BsmtExposure</th>\n",
              "      <th>BsmtFinType1</th>\n",
              "      <th>BsmtFinSF1</th>\n",
              "      <th>BsmtFinType2</th>\n",
              "      <th>BsmtFinSF2</th>\n",
              "      <th>BsmtUnfSF</th>\n",
              "      <th>TotalBsmtSF</th>\n",
              "      <th>Heating</th>\n",
              "      <th>HeatingQC</th>\n",
              "      <th>CentralAir</th>\n",
              "      <th>Electrical</th>\n",
              "      <th>1stFlrSF</th>\n",
              "      <th>2ndFlrSF</th>\n",
              "      <th>LowQualFinSF</th>\n",
              "      <th>GrLivArea</th>\n",
              "      <th>BsmtFullBath</th>\n",
              "      <th>BsmtHalfBath</th>\n",
              "      <th>FullBath</th>\n",
              "      <th>HalfBath</th>\n",
              "      <th>BedroomAbvGr</th>\n",
              "      <th>KitchenAbvGr</th>\n",
              "      <th>KitchenQual</th>\n",
              "      <th>TotRmsAbvGrd</th>\n",
              "      <th>Functional</th>\n",
              "      <th>Fireplaces</th>\n",
              "      <th>FireplaceQu</th>\n",
              "      <th>GarageType</th>\n",
              "      <th>GarageYrBlt</th>\n",
              "      <th>GarageFinish</th>\n",
              "      <th>GarageCars</th>\n",
              "      <th>GarageArea</th>\n",
              "      <th>GarageQual</th>\n",
              "      <th>GarageCond</th>\n",
              "      <th>PavedDrive</th>\n",
              "      <th>WoodDeckSF</th>\n",
              "      <th>OpenPorchSF</th>\n",
              "      <th>EnclosedPorch</th>\n",
              "      <th>3SsnPorch</th>\n",
              "      <th>ScreenPorch</th>\n",
              "      <th>PoolArea</th>\n",
              "      <th>PoolQC</th>\n",
              "      <th>Fence</th>\n",
              "      <th>MiscFeature</th>\n",
              "      <th>MiscVal</th>\n",
              "      <th>MoSold</th>\n",
              "      <th>YrSold</th>\n",
              "      <th>SaleType</th>\n",
              "      <th>SaleCondition</th>\n",
              "      <th>SalePrice</th>\n",
              "    </tr>\n",
              "  </thead>\n",
              "  <tbody>\n",
              "    <tr>\n",
              "      <th>0</th>\n",
              "      <td>0.073375</td>\n",
              "      <td>0.359044</td>\n",
              "      <td>-0.075869</td>\n",
              "      <td>-0.133231</td>\n",
              "      <td>0.064238</td>\n",
              "      <td>0.244717</td>\n",
              "      <td>-0.657040</td>\n",
              "      <td>-0.111168</td>\n",
              "      <td>0.02618</td>\n",
              "      <td>-0.485795</td>\n",
              "      <td>-0.225716</td>\n",
              "      <td>0.551913</td>\n",
              "      <td>0.045928</td>\n",
              "      <td>0.101885</td>\n",
              "      <td>0.12422</td>\n",
              "      <td>1.227931</td>\n",
              "      <td>0.651479</td>\n",
              "      <td>-0.517200</td>\n",
              "      <td>-1.043259</td>\n",
              "      <td>-0.869941</td>\n",
              "      <td>-0.52024</td>\n",
              "      <td>-0.134652</td>\n",
              "      <td>1.092673</td>\n",
              "      <td>1.116401</td>\n",
              "      <td>0.481584</td>\n",
              "      <td>0.514104</td>\n",
              "      <td>1.052302</td>\n",
              "      <td>0.321564</td>\n",
              "      <td>1.060705</td>\n",
              "      <td>0.618960</td>\n",
              "      <td>0.094944</td>\n",
              "      <td>-0.590555</td>\n",
              "      <td>1.006001</td>\n",
              "      <td>0.575425</td>\n",
              "      <td>0.337745</td>\n",
              "      <td>-0.288653</td>\n",
              "      <td>-0.944591</td>\n",
              "      <td>-0.459303</td>\n",
              "      <td>0.141339</td>\n",
              "      <td>0.891179</td>\n",
              "      <td>0.263813</td>\n",
              "      <td>0.282021</td>\n",
              "      <td>-0.803570</td>\n",
              "      <td>1.161852</td>\n",
              "      <td>-0.120242</td>\n",
              "      <td>0.529260</td>\n",
              "      <td>1.107810</td>\n",
              "      <td>-0.241061</td>\n",
              "      <td>0.789741</td>\n",
              "      <td>1.227585</td>\n",
              "      <td>0.163779</td>\n",
              "      <td>-0.211454</td>\n",
              "      <td>0.735994</td>\n",
              "      <td>0.912210</td>\n",
              "      <td>0.2445</td>\n",
              "      <td>-0.951226</td>\n",
              "      <td>-0.944190</td>\n",
              "      <td>0.586606</td>\n",
              "      <td>-1.008328</td>\n",
              "      <td>0.318475</td>\n",
              "      <td>0.311725</td>\n",
              "      <td>0.351000</td>\n",
              "      <td>0.259467</td>\n",
              "      <td>0.304008</td>\n",
              "      <td>0.289745</td>\n",
              "      <td>-0.752176</td>\n",
              "      <td>0.216503</td>\n",
              "      <td>-0.359325</td>\n",
              "      <td>-0.116339</td>\n",
              "      <td>-0.270208</td>\n",
              "      <td>-0.068692</td>\n",
              "      <td>-0.069409</td>\n",
              "      <td>0.437409</td>\n",
              "      <td>0.189185</td>\n",
              "      <td>-0.087688</td>\n",
              "      <td>-1.599111</td>\n",
              "      <td>0.138777</td>\n",
              "      <td>-0.011669</td>\n",
              "      <td>0.183014</td>\n",
              "      <td>12.247694</td>\n",
              "    </tr>\n",
              "    <tr>\n",
              "      <th>1</th>\n",
              "      <td>-0.872563</td>\n",
              "      <td>0.359044</td>\n",
              "      <td>0.572424</td>\n",
              "      <td>0.113442</td>\n",
              "      <td>0.064238</td>\n",
              "      <td>0.244717</td>\n",
              "      <td>-0.657040</td>\n",
              "      <td>-0.111168</td>\n",
              "      <td>0.02618</td>\n",
              "      <td>1.418260</td>\n",
              "      <td>-0.225716</td>\n",
              "      <td>0.041271</td>\n",
              "      <td>-1.550606</td>\n",
              "      <td>0.101885</td>\n",
              "      <td>0.12422</td>\n",
              "      <td>-0.255544</td>\n",
              "      <td>-0.071836</td>\n",
              "      <td>2.179628</td>\n",
              "      <td>-0.183465</td>\n",
              "      <td>0.390141</td>\n",
              "      <td>-0.52024</td>\n",
              "      <td>-0.134652</td>\n",
              "      <td>-0.856383</td>\n",
              "      <td>-0.926137</td>\n",
              "      <td>-0.634468</td>\n",
              "      <td>-0.570750</td>\n",
              "      <td>-0.689604</td>\n",
              "      <td>0.321564</td>\n",
              "      <td>-0.649543</td>\n",
              "      <td>0.618960</td>\n",
              "      <td>0.094944</td>\n",
              "      <td>2.220999</td>\n",
              "      <td>-0.136559</td>\n",
              "      <td>1.171992</td>\n",
              "      <td>0.337745</td>\n",
              "      <td>-0.288653</td>\n",
              "      <td>-0.641228</td>\n",
              "      <td>0.466465</td>\n",
              "      <td>0.141339</td>\n",
              "      <td>0.891179</td>\n",
              "      <td>0.263813</td>\n",
              "      <td>0.282021</td>\n",
              "      <td>0.418585</td>\n",
              "      <td>-0.795163</td>\n",
              "      <td>-0.120242</td>\n",
              "      <td>-0.381846</td>\n",
              "      <td>-0.819964</td>\n",
              "      <td>3.948809</td>\n",
              "      <td>0.789741</td>\n",
              "      <td>-0.761621</td>\n",
              "      <td>0.163779</td>\n",
              "      <td>-0.211454</td>\n",
              "      <td>-0.771091</td>\n",
              "      <td>-0.318683</td>\n",
              "      <td>0.2445</td>\n",
              "      <td>0.600495</td>\n",
              "      <td>0.526229</td>\n",
              "      <td>0.586606</td>\n",
              "      <td>0.073805</td>\n",
              "      <td>0.318475</td>\n",
              "      <td>0.311725</td>\n",
              "      <td>-0.060731</td>\n",
              "      <td>0.259467</td>\n",
              "      <td>0.304008</td>\n",
              "      <td>0.289745</td>\n",
              "      <td>1.626195</td>\n",
              "      <td>-0.704483</td>\n",
              "      <td>-0.359325</td>\n",
              "      <td>-0.116339</td>\n",
              "      <td>-0.270208</td>\n",
              "      <td>-0.068692</td>\n",
              "      <td>-0.069409</td>\n",
              "      <td>0.437409</td>\n",
              "      <td>0.189185</td>\n",
              "      <td>-0.087688</td>\n",
              "      <td>-0.489110</td>\n",
              "      <td>-0.614439</td>\n",
              "      <td>-0.011669</td>\n",
              "      <td>0.183014</td>\n",
              "      <td>12.109011</td>\n",
              "    </tr>\n",
              "    <tr>\n",
              "      <th>2</th>\n",
              "      <td>0.073375</td>\n",
              "      <td>0.359044</td>\n",
              "      <td>0.065007</td>\n",
              "      <td>0.420061</td>\n",
              "      <td>0.064238</td>\n",
              "      <td>0.244717</td>\n",
              "      <td>0.872909</td>\n",
              "      <td>-0.111168</td>\n",
              "      <td>0.02618</td>\n",
              "      <td>-0.485795</td>\n",
              "      <td>-0.225716</td>\n",
              "      <td>0.551913</td>\n",
              "      <td>0.045928</td>\n",
              "      <td>0.101885</td>\n",
              "      <td>0.12422</td>\n",
              "      <td>1.227931</td>\n",
              "      <td>0.651479</td>\n",
              "      <td>-0.517200</td>\n",
              "      <td>-0.977121</td>\n",
              "      <td>-0.821476</td>\n",
              "      <td>-0.52024</td>\n",
              "      <td>-0.134652</td>\n",
              "      <td>1.092673</td>\n",
              "      <td>1.116401</td>\n",
              "      <td>0.481584</td>\n",
              "      <td>0.325915</td>\n",
              "      <td>1.052302</td>\n",
              "      <td>0.321564</td>\n",
              "      <td>1.060705</td>\n",
              "      <td>0.618960</td>\n",
              "      <td>0.094944</td>\n",
              "      <td>0.346630</td>\n",
              "      <td>1.006001</td>\n",
              "      <td>0.092907</td>\n",
              "      <td>0.337745</td>\n",
              "      <td>-0.288653</td>\n",
              "      <td>-0.301643</td>\n",
              "      <td>-0.313369</td>\n",
              "      <td>0.141339</td>\n",
              "      <td>0.891179</td>\n",
              "      <td>0.263813</td>\n",
              "      <td>0.282021</td>\n",
              "      <td>-0.576560</td>\n",
              "      <td>1.189351</td>\n",
              "      <td>-0.120242</td>\n",
              "      <td>0.659675</td>\n",
              "      <td>1.107810</td>\n",
              "      <td>-0.241061</td>\n",
              "      <td>0.789741</td>\n",
              "      <td>1.227585</td>\n",
              "      <td>0.163779</td>\n",
              "      <td>-0.211454</td>\n",
              "      <td>0.735994</td>\n",
              "      <td>-0.318683</td>\n",
              "      <td>0.2445</td>\n",
              "      <td>0.600495</td>\n",
              "      <td>0.526229</td>\n",
              "      <td>0.586606</td>\n",
              "      <td>-0.925087</td>\n",
              "      <td>0.318475</td>\n",
              "      <td>0.311725</td>\n",
              "      <td>0.631726</td>\n",
              "      <td>0.259467</td>\n",
              "      <td>0.304008</td>\n",
              "      <td>0.289745</td>\n",
              "      <td>-0.752176</td>\n",
              "      <td>-0.070361</td>\n",
              "      <td>-0.359325</td>\n",
              "      <td>-0.116339</td>\n",
              "      <td>-0.270208</td>\n",
              "      <td>-0.068692</td>\n",
              "      <td>-0.069409</td>\n",
              "      <td>0.437409</td>\n",
              "      <td>0.189185</td>\n",
              "      <td>-0.087688</td>\n",
              "      <td>0.990891</td>\n",
              "      <td>0.138777</td>\n",
              "      <td>-0.011669</td>\n",
              "      <td>0.183014</td>\n",
              "      <td>12.317167</td>\n",
              "    </tr>\n",
              "    <tr>\n",
              "      <th>3</th>\n",
              "      <td>0.309859</td>\n",
              "      <td>0.359044</td>\n",
              "      <td>-0.325778</td>\n",
              "      <td>0.103347</td>\n",
              "      <td>0.064238</td>\n",
              "      <td>0.244717</td>\n",
              "      <td>0.872909</td>\n",
              "      <td>-0.111168</td>\n",
              "      <td>0.02618</td>\n",
              "      <td>0.466233</td>\n",
              "      <td>-0.225716</td>\n",
              "      <td>0.892340</td>\n",
              "      <td>0.045928</td>\n",
              "      <td>0.101885</td>\n",
              "      <td>0.12422</td>\n",
              "      <td>1.227931</td>\n",
              "      <td>0.651479</td>\n",
              "      <td>-0.517200</td>\n",
              "      <td>1.800676</td>\n",
              "      <td>0.632464</td>\n",
              "      <td>-0.52024</td>\n",
              "      <td>-0.134652</td>\n",
              "      <td>-1.506069</td>\n",
              "      <td>-0.634346</td>\n",
              "      <td>-0.634468</td>\n",
              "      <td>-0.570750</td>\n",
              "      <td>-0.689604</td>\n",
              "      <td>0.321564</td>\n",
              "      <td>-1.504667</td>\n",
              "      <td>-0.655627</td>\n",
              "      <td>2.405256</td>\n",
              "      <td>-0.590555</td>\n",
              "      <td>-0.136559</td>\n",
              "      <td>-0.499274</td>\n",
              "      <td>0.337745</td>\n",
              "      <td>-0.288653</td>\n",
              "      <td>-0.061670</td>\n",
              "      <td>-0.687324</td>\n",
              "      <td>0.141339</td>\n",
              "      <td>-0.151386</td>\n",
              "      <td>0.263813</td>\n",
              "      <td>0.282021</td>\n",
              "      <td>-0.439287</td>\n",
              "      <td>0.937276</td>\n",
              "      <td>-0.120242</td>\n",
              "      <td>0.541511</td>\n",
              "      <td>1.107810</td>\n",
              "      <td>-0.241061</td>\n",
              "      <td>-1.026041</td>\n",
              "      <td>-0.761621</td>\n",
              "      <td>0.163779</td>\n",
              "      <td>-0.211454</td>\n",
              "      <td>0.735994</td>\n",
              "      <td>0.296763</td>\n",
              "      <td>0.2445</td>\n",
              "      <td>0.600495</td>\n",
              "      <td>1.261438</td>\n",
              "      <td>-1.008264</td>\n",
              "      <td>-0.883467</td>\n",
              "      <td>-0.801942</td>\n",
              "      <td>1.650307</td>\n",
              "      <td>0.790804</td>\n",
              "      <td>0.259467</td>\n",
              "      <td>0.304008</td>\n",
              "      <td>0.289745</td>\n",
              "      <td>-0.752176</td>\n",
              "      <td>-0.176048</td>\n",
              "      <td>4.092524</td>\n",
              "      <td>-0.116339</td>\n",
              "      <td>-0.270208</td>\n",
              "      <td>-0.068692</td>\n",
              "      <td>-0.069409</td>\n",
              "      <td>0.437409</td>\n",
              "      <td>0.189185</td>\n",
              "      <td>-0.087688</td>\n",
              "      <td>-1.599111</td>\n",
              "      <td>-1.367655</td>\n",
              "      <td>-0.011669</td>\n",
              "      <td>-3.302211</td>\n",
              "      <td>11.849398</td>\n",
              "    </tr>\n",
              "    <tr>\n",
              "      <th>4</th>\n",
              "      <td>0.073375</td>\n",
              "      <td>0.359044</td>\n",
              "      <td>0.724756</td>\n",
              "      <td>0.878409</td>\n",
              "      <td>0.064238</td>\n",
              "      <td>0.244717</td>\n",
              "      <td>0.872909</td>\n",
              "      <td>-0.111168</td>\n",
              "      <td>0.02618</td>\n",
              "      <td>1.418260</td>\n",
              "      <td>-0.225716</td>\n",
              "      <td>1.913623</td>\n",
              "      <td>0.045928</td>\n",
              "      <td>0.101885</td>\n",
              "      <td>0.12422</td>\n",
              "      <td>1.227931</td>\n",
              "      <td>1.374795</td>\n",
              "      <td>-0.517200</td>\n",
              "      <td>-0.944052</td>\n",
              "      <td>-0.724547</td>\n",
              "      <td>-0.52024</td>\n",
              "      <td>-0.134652</td>\n",
              "      <td>1.092673</td>\n",
              "      <td>1.116401</td>\n",
              "      <td>0.481584</td>\n",
              "      <td>1.366489</td>\n",
              "      <td>1.052302</td>\n",
              "      <td>0.321564</td>\n",
              "      <td>1.060705</td>\n",
              "      <td>0.618960</td>\n",
              "      <td>0.094944</td>\n",
              "      <td>1.283814</td>\n",
              "      <td>1.006001</td>\n",
              "      <td>0.463568</td>\n",
              "      <td>0.337745</td>\n",
              "      <td>-0.288653</td>\n",
              "      <td>-0.174865</td>\n",
              "      <td>0.199680</td>\n",
              "      <td>0.141339</td>\n",
              "      <td>0.891179</td>\n",
              "      <td>0.263813</td>\n",
              "      <td>0.282021</td>\n",
              "      <td>0.112267</td>\n",
              "      <td>1.617877</td>\n",
              "      <td>-0.120242</td>\n",
              "      <td>1.282191</td>\n",
              "      <td>1.107810</td>\n",
              "      <td>-0.241061</td>\n",
              "      <td>0.789741</td>\n",
              "      <td>1.227585</td>\n",
              "      <td>1.390023</td>\n",
              "      <td>-0.211454</td>\n",
              "      <td>0.735994</td>\n",
              "      <td>1.527656</td>\n",
              "      <td>0.2445</td>\n",
              "      <td>0.600495</td>\n",
              "      <td>0.526229</td>\n",
              "      <td>0.586606</td>\n",
              "      <td>-0.883467</td>\n",
              "      <td>0.318475</td>\n",
              "      <td>1.650307</td>\n",
              "      <td>1.698485</td>\n",
              "      <td>0.259467</td>\n",
              "      <td>0.304008</td>\n",
              "      <td>0.289745</td>\n",
              "      <td>0.780197</td>\n",
              "      <td>0.563760</td>\n",
              "      <td>-0.359325</td>\n",
              "      <td>-0.116339</td>\n",
              "      <td>-0.270208</td>\n",
              "      <td>-0.068692</td>\n",
              "      <td>-0.069409</td>\n",
              "      <td>0.437409</td>\n",
              "      <td>0.189185</td>\n",
              "      <td>-0.087688</td>\n",
              "      <td>2.100892</td>\n",
              "      <td>0.138777</td>\n",
              "      <td>-0.011669</td>\n",
              "      <td>0.183014</td>\n",
              "      <td>12.429216</td>\n",
              "    </tr>\n",
              "  </tbody>\n",
              "</table>\n",
              "</div>"
            ],
            "text/plain": [
              "   MSSubClass  MSZoning  LotFrontage  ...  SaleType  SaleCondition  SalePrice\n",
              "0    0.073375  0.359044    -0.075869  ... -0.011669       0.183014  12.247694\n",
              "1   -0.872563  0.359044     0.572424  ... -0.011669       0.183014  12.109011\n",
              "2    0.073375  0.359044     0.065007  ... -0.011669       0.183014  12.317167\n",
              "3    0.309859  0.359044    -0.325778  ... -0.011669      -3.302211  11.849398\n",
              "4    0.073375  0.359044     0.724756  ... -0.011669       0.183014  12.429216\n",
              "\n",
              "[5 rows x 80 columns]"
            ]
          },
          "metadata": {
            "tags": []
          },
          "execution_count": 80
        }
      ]
    },
    {
      "cell_type": "code",
      "metadata": {
        "id": "BjJD0lhPFNa5"
      },
      "source": [
        "Final_data.to_csv('Cleaned_Data')"
      ],
      "execution_count": 82,
      "outputs": []
    }
  ]
}