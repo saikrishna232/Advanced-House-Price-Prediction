{
  "nbformat": 4,
  "nbformat_minor": 0,
  "metadata": {
    "colab": {
      "name": "Model Building.ipynb",
      "provenance": [],
      "authorship_tag": "ABX9TyM6KBl538vvR7fRJu1q02ev",
      "include_colab_link": true
    },
    "kernelspec": {
      "name": "python3",
      "display_name": "Python 3"
    }
  },
  "cells": [
    {
      "cell_type": "markdown",
      "metadata": {
        "id": "view-in-github",
        "colab_type": "text"
      },
      "source": [
        "<a href=\"https://colab.research.google.com/github/saikrishna232/Advanced-House-Price-Prediction/blob/main/Model_Building.ipynb\" target=\"_parent\"><img src=\"https://colab.research.google.com/assets/colab-badge.svg\" alt=\"Open In Colab\"/></a>"
      ]
    },
    {
      "cell_type": "code",
      "metadata": {
        "id": "q4rJKNa0GoR-"
      },
      "source": [
        "import pandas as pd\r\n",
        "import numpy as np\r\n",
        "import matplotlib.pyplot as plt\r\n",
        "%matplotlib inline\r\n",
        "pd.pandas.set_option('display.max_columns', None)\r\n",
        "df=pd.read_csv('https://raw.githubusercontent.com/saikrishna232/Advanced-House-Price-Prediction/main/Cleaned_Data.csv')"
      ],
      "execution_count": 5,
      "outputs": []
    },
    {
      "cell_type": "code",
      "metadata": {
        "id": "cyxUYKwOG9ev"
      },
      "source": [
        "df.drop(['Unnamed: 0'],axis=1,inplace=True)"
      ],
      "execution_count": 9,
      "outputs": []
    },
    {
      "cell_type": "code",
      "metadata": {
        "id": "6kUjpAOgIDTp"
      },
      "source": [
        "X=df.drop(['SalePrice'],axis=1)\r\n",
        "y=df['SalePrice']"
      ],
      "execution_count": 13,
      "outputs": []
    },
    {
      "cell_type": "code",
      "metadata": {
        "id": "b_iTwwRoHg9n"
      },
      "source": [
        "from sklearn.linear_model import LinearRegression\r\n",
        "from sklearn.model_selection import train_test_split"
      ],
      "execution_count": 12,
      "outputs": []
    },
    {
      "cell_type": "code",
      "metadata": {
        "id": "cwLh-E8sH0ad"
      },
      "source": [
        "X_train,X_test,y_train,y_test=train_test_split(X,y,test_size=0.3,random_state=10)"
      ],
      "execution_count": 14,
      "outputs": []
    },
    {
      "cell_type": "code",
      "metadata": {
        "id": "STLSZm_VIS1R"
      },
      "source": [
        "Linear_model=LinearRegression()\r\n",
        "Linear_model.fit(X_train,y_train)\r\n",
        "Linear_preds=Linear_model.predict(X_test)"
      ],
      "execution_count": 18,
      "outputs": []
    },
    {
      "cell_type": "code",
      "metadata": {
        "id": "RaijxsL_MKyR"
      },
      "source": [
        "from sklearn.ensemble import RandomForestRegressor\r\n",
        "random_model=RandomForestRegressor()\r\n",
        "random_model.fit(X_train,y_train)\r\n",
        "random_preds=random_model.predict(X_test)"
      ],
      "execution_count": 23,
      "outputs": []
    },
    {
      "cell_type": "code",
      "metadata": {
        "colab": {
          "base_uri": "https://localhost:8080/"
        },
        "id": "JbWshhOhJqwo",
        "outputId": "8550ec57-f5f5-4bb6-893d-caceaab784e0"
      },
      "source": [
        "from sklearn.metrics import mean_absolute_error\r\n",
        "print(mean_absolute_error(y_test, Linear_preds))\r\n",
        "print(mean_absolute_error(y_test, random_preds))"
      ],
      "execution_count": 24,
      "outputs": [
        {
          "output_type": "stream",
          "text": [
            "0.0909008673956967\n",
            "0.10095740263904808\n"
          ],
          "name": "stdout"
        }
      ]
    }
  ]
}